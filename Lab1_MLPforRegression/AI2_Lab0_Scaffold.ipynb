{
    "cells": [
        {
            "cell_type": "code",
            "execution_count": 57,
            "metadata": {},
            "outputs": [],
            "source": [
                "### Import the necessary modules\n",
                "import numpy as np\n",
                "import pandas as pd\n",
                "import seaborn as sb\n",
                "import matplotlib.pyplot as plt\n",
                "\n",
                "from keras.models import Sequential\n",
                "from keras.layers import Dense"
            ]
        },
        {
            "cell_type": "code",
            "execution_count": 58,
            "metadata": {},
            "outputs": [],
            "source": [
                "### Read the data from the folder sample_data\n",
                "# Read the train and test dataset into separate dataframes\n",
                "train_df = pd.read_csv('.\\\\california_housing_train.csv')\n",
                "test_df = pd.read_csv('.\\\\california_housing_test.csv')\n",
                "\n",
                "# Define response feature\n",
                "RESPONSE_STR = 'median_house_value'"
            ]
        },
        {
            "cell_type": "code",
            "execution_count": 59,
            "metadata": {},
            "outputs": [],
            "source": [
                "### Plot the features pair-wise (find correlated features)\n",
                "correlated_features = [\n",
                "    'population',\n",
                "    'households',\n",
                "    'total_rooms',\n",
                "    # 'total_bedrooms'\n",
                "]\n",
                "\n",
                "# sb.pairplot(train_df.drop([RESPONSE_STR]+correlated_features, axis=1))"
            ]
        },
        {
            "cell_type": "code",
            "execution_count": 60,
            "metadata": {},
            "outputs": [],
            "source": [
                "### Get your train/test predictor and response\n",
                "# Drop all collinear features\n",
                "train_df.drop(correlated_features, axis=1, inplace=True)\n",
                "test_df.drop(correlated_features, axis=1, inplace=True)\n",
                "\n",
                "# ## P.S. automatic way\n",
                "# corr_matrix = train_df.corr().abs()\n",
                "# upper = corr_matrix.where(np.triu(np.ones(corr_matrix.shape), k=1).astype(bool))\n",
                "# to_drop = [column for column in upper.columns if any(upper[column] > 0.95)]\n",
                "# print(to_drop)\n",
                "# train_df.drop(to_drop,axis=1,inplace=True)\n",
                "\n",
                "# Set all columns except median_house_value as the predictors\n",
                "train_predictor = train_df.drop(RESPONSE_STR, axis=1)\n",
                "test_predictor = test_df.drop(RESPONSE_STR, axis=1)\n",
                "\n",
                "# Set the median_house_value as the response\n",
                "train_response = train_df[[RESPONSE_STR]]\n",
                "test_response = test_df[[RESPONSE_STR]]\n",
                "\n",
                "# Convert response to log scale\n",
                "train_response = np.log(train_response)\n",
                "test_response = np.log(test_response)\n",
                "\n",
                "# Standardize the train and test predictor values\n",
                "train_predictor = (train_predictor - train_predictor.mean())/train_predictor.std()\n",
                "test_predictor = (test_predictor - test_predictor.mean())/test_predictor.std()"
            ]
        },
        {
            "cell_type": "code",
            "execution_count": 61,
            "metadata": {},
            "outputs": [],
            "source": [
                "### Define a simple NN model that takes the predictors as input and outputs the median house value\n",
                "# The architecture of the model is left to you as an exercise\n",
                "my_model = Sequential()\n",
                "my_model.add(Dense(16, input_dim=len(train_predictor.columns), activation='relu'))\n",
                "my_model.add(Dense(32, activation='relu'))\n",
                "my_model.add(Dense(16, activation='sigmoid'))\n",
                "my_model.add(Dense(1, activation='relu'))"
            ]
        },
        {
            "cell_type": "code",
            "execution_count": 62,
            "metadata": {},
            "outputs": [],
            "source": [
                "### Compile the defined NN model\n",
                "my_model.compile(loss='mse', optimizer='adam')"
            ]
        },
        {
            "cell_type": "code",
            "execution_count": 63,
            "metadata": {},
            "outputs": [
                {
                    "name": "stdout",
                    "output_type": "stream",
                    "text": [
                        "Epoch 1/50\n",
                        "425/425 [==============================] - 1s 2ms/step - loss: 45.1245 - val_loss: 12.9374\n",
                        "Epoch 2/50\n",
                        "425/425 [==============================] - 1s 2ms/step - loss: 4.1226 - val_loss: 1.2566\n",
                        "Epoch 3/50\n",
                        "425/425 [==============================] - 1s 2ms/step - loss: 0.4475 - val_loss: 0.4313\n",
                        "Epoch 4/50\n",
                        "425/425 [==============================] - 1s 2ms/step - loss: 0.3127 - val_loss: 0.3917\n",
                        "Epoch 5/50\n",
                        "425/425 [==============================] - 1s 2ms/step - loss: 0.3093 - val_loss: 0.3903\n",
                        "Epoch 6/50\n",
                        "425/425 [==============================] - 1s 2ms/step - loss: 0.2991 - val_loss: 0.3940\n",
                        "Epoch 7/50\n",
                        "425/425 [==============================] - 1s 2ms/step - loss: 0.2282 - val_loss: 0.2539\n",
                        "Epoch 8/50\n",
                        "425/425 [==============================] - 1s 2ms/step - loss: 0.1426 - val_loss: 0.1426\n",
                        "Epoch 9/50\n",
                        "425/425 [==============================] - 1s 2ms/step - loss: 0.1149 - val_loss: 0.1200\n",
                        "Epoch 10/50\n",
                        "425/425 [==============================] - 1s 2ms/step - loss: 0.1067 - val_loss: 0.1112\n",
                        "Epoch 11/50\n",
                        "425/425 [==============================] - 1s 2ms/step - loss: 0.1029 - val_loss: 0.1171\n",
                        "Epoch 12/50\n",
                        "425/425 [==============================] - 1s 2ms/step - loss: 0.1006 - val_loss: 0.1105\n",
                        "Epoch 13/50\n",
                        "425/425 [==============================] - 1s 2ms/step - loss: 0.0981 - val_loss: 0.1151\n",
                        "Epoch 14/50\n",
                        "425/425 [==============================] - 1s 2ms/step - loss: 0.0961 - val_loss: 0.1178\n",
                        "Epoch 15/50\n",
                        "425/425 [==============================] - 1s 2ms/step - loss: 0.0945 - val_loss: 0.1133\n",
                        "Epoch 16/50\n",
                        "425/425 [==============================] - 1s 2ms/step - loss: 0.0927 - val_loss: 0.1231\n",
                        "Epoch 17/50\n",
                        "425/425 [==============================] - 1s 2ms/step - loss: 0.0915 - val_loss: 0.1059\n",
                        "Epoch 18/50\n",
                        "425/425 [==============================] - 1s 2ms/step - loss: 0.0903 - val_loss: 0.1145\n",
                        "Epoch 19/50\n",
                        "425/425 [==============================] - 1s 2ms/step - loss: 0.0897 - val_loss: 0.1099\n",
                        "Epoch 20/50\n",
                        "425/425 [==============================] - 1s 2ms/step - loss: 0.0889 - val_loss: 0.1168\n",
                        "Epoch 21/50\n",
                        "425/425 [==============================] - 1s 2ms/step - loss: 0.0882 - val_loss: 0.1060\n",
                        "Epoch 22/50\n",
                        "425/425 [==============================] - 1s 2ms/step - loss: 0.0876 - val_loss: 0.1055\n",
                        "Epoch 23/50\n",
                        "425/425 [==============================] - 1s 2ms/step - loss: 0.0871 - val_loss: 0.1136\n",
                        "Epoch 24/50\n",
                        "425/425 [==============================] - 1s 2ms/step - loss: 0.0872 - val_loss: 0.1158\n",
                        "Epoch 25/50\n",
                        "425/425 [==============================] - 1s 2ms/step - loss: 0.0866 - val_loss: 0.0969\n",
                        "Epoch 26/50\n",
                        "425/425 [==============================] - 1s 2ms/step - loss: 0.0860 - val_loss: 0.1004\n",
                        "Epoch 27/50\n",
                        "425/425 [==============================] - 1s 2ms/step - loss: 0.0863 - val_loss: 0.1003\n",
                        "Epoch 28/50\n",
                        "425/425 [==============================] - 1s 2ms/step - loss: 0.0853 - val_loss: 0.1026\n",
                        "Epoch 29/50\n",
                        "425/425 [==============================] - 1s 2ms/step - loss: 0.0850 - val_loss: 0.0998\n",
                        "Epoch 30/50\n",
                        "425/425 [==============================] - 1s 2ms/step - loss: 0.0849 - val_loss: 0.1018\n",
                        "Epoch 31/50\n",
                        "425/425 [==============================] - 1s 2ms/step - loss: 0.0847 - val_loss: 0.0991\n",
                        "Epoch 32/50\n",
                        "425/425 [==============================] - 1s 2ms/step - loss: 0.0842 - val_loss: 0.1091\n",
                        "Epoch 33/50\n",
                        "425/425 [==============================] - 1s 2ms/step - loss: 0.0846 - val_loss: 0.1014\n",
                        "Epoch 34/50\n",
                        "425/425 [==============================] - 1s 1ms/step - loss: 0.0841 - val_loss: 0.1060\n",
                        "Epoch 35/50\n",
                        "425/425 [==============================] - 1s 1ms/step - loss: 0.0838 - val_loss: 0.1088\n",
                        "Epoch 36/50\n",
                        "425/425 [==============================] - 1s 1ms/step - loss: 0.0839 - val_loss: 0.1095\n",
                        "Epoch 37/50\n",
                        "425/425 [==============================] - 1s 1ms/step - loss: 0.0837 - val_loss: 0.0979\n",
                        "Epoch 38/50\n",
                        "425/425 [==============================] - 1s 1ms/step - loss: 0.0833 - val_loss: 0.1032\n",
                        "Epoch 39/50\n",
                        "425/425 [==============================] - 1s 2ms/step - loss: 0.0833 - val_loss: 0.1012\n",
                        "Epoch 40/50\n",
                        "425/425 [==============================] - 1s 1ms/step - loss: 0.0828 - val_loss: 0.1023\n",
                        "Epoch 41/50\n",
                        "425/425 [==============================] - 1s 1ms/step - loss: 0.0830 - val_loss: 0.1039\n",
                        "Epoch 42/50\n",
                        "425/425 [==============================] - 1s 1ms/step - loss: 0.0825 - val_loss: 0.1027\n",
                        "Epoch 43/50\n",
                        "425/425 [==============================] - 1s 1ms/step - loss: 0.0827 - val_loss: 0.0996\n",
                        "Epoch 44/50\n",
                        "425/425 [==============================] - 1s 1ms/step - loss: 0.0821 - val_loss: 0.0937\n",
                        "Epoch 45/50\n",
                        "425/425 [==============================] - 1s 1ms/step - loss: 0.0820 - val_loss: 0.0974\n",
                        "Epoch 46/50\n",
                        "425/425 [==============================] - 1s 1ms/step - loss: 0.0821 - val_loss: 0.1037\n",
                        "Epoch 47/50\n",
                        "425/425 [==============================] - 1s 1ms/step - loss: 0.0818 - val_loss: 0.0960\n",
                        "Epoch 48/50\n",
                        "425/425 [==============================] - 1s 2ms/step - loss: 0.0817 - val_loss: 0.1169\n",
                        "Epoch 49/50\n",
                        "425/425 [==============================] - 1s 2ms/step - loss: 0.0817 - val_loss: 0.0984\n",
                        "Epoch 50/50\n",
                        "425/425 [==============================] - 1s 2ms/step - loss: 0.0814 - val_loss: 0.0957\n"
                    ]
                }
            ],
            "source": [
                "### Fit the model on the train data with a validation split of 0.2\n",
                "EPOCHS      = 30\n",
                "BATCH_SIZE  = 32\n",
                "V_SPLIT     = 0.2\n",
                "\n",
                "history = my_model.fit(\n",
                "   x = train_predictor,\n",
                "   y = train_response,\n",
                "   epochs = EPOCHS,\n",
                "   batch_size = BATCH_SIZE,\n",
                "   validation_split = V_SPLIT,\n",
                ")"
            ]
        },
        {
            "cell_type": "code",
            "execution_count": 64,
            "metadata": {},
            "outputs": [
                {
                    "data": {
                        "image/png": "[encoded data removed]",
                        "text/plain": [
                            "<Figure size 640x480 with 1 Axes>"
                        ]
                    },
                    "metadata": {},
                    "output_type": "display_data"
                }
            ],
            "source": [
                "### Plot the train and validation loss(MSE)\n",
                "plt.plot(history.history['loss'][3:], label='loss')\n",
                "plt.plot(history.history['val_loss'][3:], label='val_loss')\n",
                "plt.show()"
            ]
        },
        {
            "cell_type": "code",
            "execution_count": 65,
            "metadata": {},
            "outputs": [
                {
                    "name": "stdout",
                    "output_type": "stream",
                    "text": [
                        "94/94 [==============================] - 0s 1ms/step\n",
                        "median_house_value    0.089099\n",
                        "dtype: float64\n"
                    ]
                }
            ],
            "source": [
                "# Predict the model on the test data\n",
                "test_prediction = my_model.predict(test_predictor)\n",
                "\n",
                "# Compute the MSE of the model on the test data\n",
                "test_mse = np.square((test_response-test_prediction)).mean()\n",
                "\n",
                "print(test_mse)"
            ]
        }
    ],
    "metadata": {
        "kernelspec": {
            "display_name": "Python 3",
            "language": "python",
            "name": "python3"
        },
        "language_info": {
            "codemirror_mode": {
                "name": "ipython",
                "version": 3
            },
            "file_extension": ".py",
            "mimetype": "text/x-python",
            "name": "python",
            "nbconvert_exporter": "python",
            "pygments_lexer": "ipython3",
            "version": "3.10.5"
        }
    },
    "nbformat": 4,
    "nbformat_minor": 4
}
